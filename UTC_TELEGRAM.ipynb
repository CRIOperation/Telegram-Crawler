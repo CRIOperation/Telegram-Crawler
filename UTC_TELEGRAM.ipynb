{
  "nbformat": 4,
  "nbformat_minor": 0,
  "metadata": {
    "colab": {
      "provenance": []
    },
    "kernelspec": {
      "name": "python3",
      "display_name": "Python 3"
    },
    "language_info": {
      "name": "python"
    }
  },
  "cells": [
    {
      "cell_type": "code",
      "source": [
        "import pandas as pd\n",
        "import pytz\n",
        "\n",
        "# Read the CSV file into a DataFrame\n",
        "file_path = 'ADD THE DATASET'\n",
        "\n",
        "# Read the Excel file\n",
        "df = pd.read_excel(file_path)# Replace 'your_file.csv' with the actual file name\n",
        "\n",
        "# Parse the \"Date\" column into datetime objects\n",
        "df['Date'] = pd.to_datetime(df['Date'])\n",
        "\n",
        "# Convert the datetime objects to UTC\n",
        "df['Date'] = df['Date'].dt.tz_localize('UTC')\n",
        "\n",
        "# Localize the UTC time to Kuala Lumpur time zone and remove the UTC offset\n",
        "kuala_lumpur = pytz.timezone('Asia/Kuala_Lumpur')\n",
        "df['Date'] = df['Date'].dt.tz_convert(kuala_lumpur).dt.tz_localize(None)\n",
        "\n",
        "df\n",
        "\n",
        "df.to_csv('NAME THE FILE', index=False)\n"
      ],
      "metadata": {
        "id": "Hlt8dTz0NkqP"
      },
      "execution_count": null,
      "outputs": []
    },
    {
      "cell_type": "code",
      "source": [],
      "metadata": {
        "id": "qqmjwwryfov5"
      },
      "execution_count": null,
      "outputs": []
    }
  ]
}