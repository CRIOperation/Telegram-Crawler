{
  "nbformat": 4,
  "nbformat_minor": 0,
  "metadata": {
    "colab": {
      "provenance": []
    },
    "kernelspec": {
      "name": "python3",
      "display_name": "Python 3"
    },
    "language_info": {
      "name": "python"
    }
  },
  "cells": [
    {
      "cell_type": "code",
      "execution_count": null,
      "metadata": {
        "id": "YNV6XT8CgtKs"
      },
      "outputs": [],
      "source": [
        "pip install python-telegram-bot\n"
      ]
    },
    {
      "cell_type": "code",
      "source": [
        "pip install telethon"
      ],
      "metadata": {
        "id": "XYpz0eZzg7gG"
      },
      "execution_count": null,
      "outputs": []
    },
    {
      "cell_type": "code",
      "source": [
        "pip install gspread oauth2client\n"
      ],
      "metadata": {
        "id": "L8_qGOkZg8Sm"
      },
      "execution_count": null,
      "outputs": []
    },
    {
      "cell_type": "code",
      "source": [
        "pip install google-colab"
      ],
      "metadata": {
        "id": "ohj67pA0g8VY"
      },
      "execution_count": null,
      "outputs": []
    },
    {
      "cell_type": "code",
      "source": [
        "pip install google-auth-oauthlib"
      ],
      "metadata": {
        "id": "C4sncUUAg8YD"
      },
      "execution_count": null,
      "outputs": []
    },
    {
      "cell_type": "code",
      "source": [
        "pip install google-auth-httplib2"
      ],
      "metadata": {
        "id": "CpPFCxJphBDo"
      },
      "execution_count": null,
      "outputs": []
    },
    {
      "cell_type": "code",
      "source": [
        "pip install google-api-python-client"
      ],
      "metadata": {
        "id": "QVjuAwPUhCg-"
      },
      "execution_count": null,
      "outputs": []
    },
    {
      "cell_type": "code",
      "source": [
        "!pip install emoji"
      ],
      "metadata": {
        "id": "Gl_4echVji8T"
      },
      "execution_count": null,
      "outputs": []
    },
    {
      "cell_type": "code",
      "source": [
        "import emoji"
      ],
      "metadata": {
        "id": "XwrG0RCVjkW2"
      },
      "execution_count": null,
      "outputs": []
    },
    {
      "cell_type": "code",
      "source": [
        "!pip install demoji"
      ],
      "metadata": {
        "id": "ePoWWJRelJip"
      },
      "execution_count": null,
      "outputs": []
    },
    {
      "cell_type": "code",
      "source": [
        "import demoji"
      ],
      "metadata": {
        "id": "RMa5vFfElMCQ"
      },
      "execution_count": null,
      "outputs": []
    },
    {
      "cell_type": "code",
      "source": [
        "pip install emoji\n"
      ],
      "metadata": {
        "id": "1_NvRDudtc1f"
      },
      "execution_count": null,
      "outputs": []
    },
    {
      "cell_type": "code",
      "source": [
        "import emoji\n",
        "\n",
        "# Assuming 'emoji_string' contains an emoji Unicode character\n",
        "emoji_string = \"😊\"\n",
        "shortcode = emoji.demojize(emoji_string)\n",
        "print(shortcode)  # Output: \":smiling_face_with_smiling_eyes:\"\n"
      ],
      "metadata": {
        "id": "SGQc1cB-thWn"
      },
      "execution_count": null,
      "outputs": []
    },
    {
      "cell_type": "code",
      "source": [
        "# initial imports\n",
        "from datetime import datetime, timezone\n",
        "from datetime import datetime as dt\n",
        "import time\n",
        "\n",
        "# telegram imports\n",
        "from telethon.sync import TelegramClient\n",
        "\n",
        "# google imports\n",
        "from google.colab import auth\n",
        "auth.authenticate_user()\n",
        "import gspread\n",
        "from google.auth import default\n",
        "creds, _ = default()\n",
        "autoriza = gspread.authorize(creds)\n",
        "\n",
        "# setup / change only the first time you use it\n",
        "username = 'ADD USERNAME' # here you put your username from your telegram account\n",
        "phone = 'ADD PHONE NUMBER'  # here you put your phone number from your telegram account\n",
        "api_id = 'ADD API ID' # here you put your api_id from https://my.telegram.org/apps\n",
        "api_hash = 'ADD API HASH' # here you put your api_hash from https://my.telegram.org/apps\n",
        "data = []\n",
        "url = ''\n",
        "index = 1\n",
        "\n",
        "# setup / change every time to use to define scraping\n",
        "channel = 'ADD CHANNEL URL' # here you put the name of the channel or group that you want to scrap (ex: '@jairbolsonarobrasil' or 'https://t.me/jairbolsonarobrasil/' / not: 'https://web.telegram.org/z/#-1273465589' or '-1273465589')\n",
        "worksheet_name = 'ADD FILE NAME' # here you put the name of the file you want as output, it will create a file on your google drive home screen\n",
        "d_min = 1 # start day / this date will be included\n",
        "m_min = 1 # start month\n",
        "y_min = 2019 # start year\n",
        "d_max = 1 # final day / only the day before this date will be included, that is, this date will not be included\n",
        "m_max = 1 # final month\n",
        "y_max = 2025 # final year\n",
        "key_search = '' # only if you want to search a keyword, if not, keep as ''\n",
        "\n",
        "# ----- #\n",
        "\n",
        "# try to open the worksheet in your google drive\n",
        "try:\n",
        "    sheet = autoriza.open(worksheet_name).sheet1\n",
        "    # the spreadsheet already exists, you don't need to create another one\n",
        "except gspread.exceptions.SpreadsheetNotFound:\n",
        "    # the spreadsheet does not exist yet, create a new one\n",
        "    sh = autoriza.create(worksheet_name)\n",
        "sheet = autoriza.open(worksheet_name).sheet1\n",
        "# clear the worksheet completely before filling\n",
        "sheet.clear()\n",
        "# defines titles and workspace\n",
        "titulos = ['Scraping ID','Group','Author ID', 'Content', 'Date', 'Message ID', 'Author', 'Views', 'Reactions', 'Shares', 'Media', 'Comments']\n",
        "campos = sheet.range('A1:L1')\n",
        "for i in range(0, len(campos)):\n",
        "  campos[i].value = titulos[i]\n",
        "sheet.update_cells(campos)\n",
        "\n",
        "# scraping\n",
        "async with TelegramClient(username, api_id, api_hash) as client:\n",
        "  async for message in client.iter_messages(channel, search=key_search):\n",
        "    if message.date < datetime(y_max, m_max, d_max, tzinfo=timezone.utc) and message.date > datetime(y_min, m_min, d_min, tzinfo=timezone.utc):\n",
        "\n",
        "      # if there is media\n",
        "      if message.media:\n",
        "        url = f'https://t.me/{channel}/{message.id}'.replace('@', '')\n",
        "      else:\n",
        "        url = 'no media'\n",
        "\n",
        "      # if there are reactions\n",
        "      if message.reactions == None:\n",
        "        pass\n",
        "      else:\n",
        "        emoji_string = \"\"\n",
        "        for reaction_count in message.reactions.results:\n",
        "          emoji = reaction_count.reaction.emoticon\n",
        "          count = str(reaction_count.count)\n",
        "          emoji_string += emoji + \" \" + count + \" \"\n",
        "\n",
        "      # content condensation\n",
        "      conteudo = [f'#ID{index:05}', channel, message.sender_id, message.text, message.date.strftime('%Y-%m-%d %H:%M:%S'), message.id, message.post_author, message.views, emoji_string, message.forwards, url]\n",
        "\n",
        "      # if there are comments # important to come after the content list with append following it, so as not to confuse the 'message' and collect only the contents of the comments\n",
        "      comments = []\n",
        "      try:\n",
        "        async for message in client.iter_messages(channel, reply_to=message.id):\n",
        "          comments.append(message.text)\n",
        "      except:\n",
        "        comments = ['possible adjustment']\n",
        "      comments = ', '.join(comments).replace(', ', ';\\n')\n",
        "\n",
        "      # append of the content with the comments\n",
        "      conteudo.append(comments)\n",
        "\n",
        "      # spreadsheet on google\n",
        "      registros = sheet.range(f\"A{index+1}:L{index+1}\")\n",
        "      for i in range(0,len(registros)):\n",
        "        registros[i].value = conteudo[i]\n",
        "      sheet.update_cells(registros)\n",
        "\n",
        "      # updates the progress counter\n",
        "      print(f'Item {index:05} completed!')\n",
        "      print(f'Id: {message.id:05}.\\n')\n",
        "\n",
        "      # update loop parameters\n",
        "      index = index + 1\n",
        "      time.sleep(1)\n",
        "\n",
        "# end\n",
        "print(f'----------------------------------------\\n#Concluded! #{index-1:05} posts were scraped!\\n----------------------------------------\\n\\n\\n\\n')"
      ],
      "metadata": {
        "id": "1MLOgfxs2o-t"
      },
      "execution_count": null,
      "outputs": []
    }
  ]
}